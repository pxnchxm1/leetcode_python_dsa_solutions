{
 "cells": [
  {
   "cell_type": "code",
   "execution_count": 15,
   "metadata": {},
   "outputs": [],
   "source": [
    "class Node:\n",
    "    def __init__(self,value):\n",
    "        self.value=value\n",
    "        self.next=None\n",
    "class Stack:\n",
    "    def __init__(self):\n",
    "        self.top = None\n",
    "    def isempty(self):\n",
    "        return self.top==None\n",
    "    def push(self,value):\n",
    "        new_node = Node(value)\n",
    "        new_node.next=self.top\n",
    "        self.top=new_node\n",
    "    def pop(self):\n",
    "        if self.isempty():\n",
    "            return \"Stack is empty\"\n",
    "        else:\n",
    "            self.top=self.top.next\n",
    "    def peek(self):\n",
    "        if self.isempty():\n",
    "            return \"Stack is empty\"\n",
    "        else:\n",
    "            return self.top.value\n",
    "    def __str__(self):\n",
    "        curr = self.top\n",
    "        while curr!=None:\n",
    "            print(curr.value)\n",
    "            curr=curr.next\n",
    "        return \"\"\n",
    "    def size(self):\n",
    "        curr = self.top\n",
    "        count=0\n",
    "        while curr!=None:\n",
    "            count+=1\n",
    "            curr=curr.next\n",
    "        return count\n",
    "    def clear(self):\n",
    "        self.top=None\n",
    "    \n"
   ]
  },
  {
   "cell_type": "code",
   "execution_count": 42,
   "metadata": {},
   "outputs": [],
   "source": [
    "\n",
    "class Queue_using_stacks:\n",
    "    def __init__(self):\n",
    "        self.stack1= Stack()\n",
    "        self.stack2= Stack()\n",
    "    def enqueue(self,item):\n",
    "        self.stack1.push(item)\n",
    "    def dequeue(self):\n",
    "        if self.stack2.isempty():\n",
    "            while not self.stack1.isempty():\n",
    "                self.stack2.push(self.stack1.pop())\n",
    "                return self.stack2.pop()\n",
    "            else:\n",
    "                return \"Queue is empty\"\n",
    "        else:\n",
    "            return self.stack2.pop()\n",
    "        \n",
    "    def is_empty(self):\n",
    "        return self.stack1.isempty() and self.stack2.isempty()\n",
    "    def size(self):\n",
    "        return self.stack1.size() + self.stack2.size()\n",
    "    def peek(self):\n",
    "        if self.stack2.isempty():\n",
    "            while not self.stack1.isempty():\n",
    "                self.stack2.push(self.stack1.pop())\n",
    "        return self.stack2.peek()\n",
    "    def __str__(self):\n",
    "        return str(self.stack1) + \" \" + str(self.stack2)\n",
    "    \n",
    "    "
   ]
  },
  {
   "cell_type": "code",
   "execution_count": 50,
   "metadata": {},
   "outputs": [
    {
     "name": "stdout",
     "output_type": "stream",
     "text": [
      "8\n",
      "3\n",
      "2\n",
      "15\n",
      " \n"
     ]
    }
   ],
   "source": [
    "q= Queue_using_stacks()\n",
    "q.enqueue(15)\n",
    "q.enqueue(2)\n",
    "q.enqueue(3)\n",
    "q.enqueue(8)\n",
    "print(q)"
   ]
  },
  {
   "cell_type": "code",
   "execution_count": 60,
   "metadata": {},
   "outputs": [
    {
     "name": "stdout",
     "output_type": "stream",
     "text": [
      " \n"
     ]
    }
   ],
   "source": [
    "\n",
    "q.dequeue()\n",
    "print(q)"
   ]
  },
  {
   "cell_type": "code",
   "execution_count": 64,
   "metadata": {},
   "outputs": [
    {
     "data": {
      "text/plain": [
       "'Stack is empty'"
      ]
     },
     "execution_count": 64,
     "metadata": {},
     "output_type": "execute_result"
    }
   ],
   "source": [
    "q.is_empty()\n",
    "q.size()\n",
    "q.peek()"
   ]
  }
 ],
 "metadata": {
  "kernelspec": {
   "display_name": "Python 3",
   "language": "python",
   "name": "python3"
  },
  "language_info": {
   "codemirror_mode": {
    "name": "ipython",
    "version": 3
   },
   "file_extension": ".py",
   "mimetype": "text/x-python",
   "name": "python",
   "nbconvert_exporter": "python",
   "pygments_lexer": "ipython3",
   "version": "3.12.3"
  }
 },
 "nbformat": 4,
 "nbformat_minor": 2
}
